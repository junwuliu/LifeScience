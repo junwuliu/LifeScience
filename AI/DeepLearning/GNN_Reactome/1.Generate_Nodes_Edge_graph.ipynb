{
 "cells": [
  {
   "cell_type": "code",
   "execution_count": 9,
   "id": "acca1b2b",
   "metadata": {},
   "outputs": [],
   "source": [
    "## protein id transfer to geneid\n",
    "P2G_file = \"/public/ref/UniProt/HUMAN_9606_id.GeneName\"\n",
    "P2Symbol = pd.read_csv(P2G_file,sep='\\t',header=None)\n",
    "P2Symbol.columns = [\"Protein\",\"Genecard\",\"GeneSymbol\"]\n",
    "P2Symbol_dict = P2Symbol.set_index(['Protein'])['GeneSymbol'].to_dict()"
   ]
  },
  {
   "cell_type": "code",
   "execution_count": 10,
   "id": "8da6af49",
   "metadata": {
    "scrolled": true
   },
   "outputs": [
    {
     "name": "stdout",
     "output_type": "stream",
     "text": [
      "            0                 1              2\n",
      "0  A0A075B6P5  catalystActivity  R-HSA-1112666\n",
      "1  A0A075B6P5  catalystActivity   R-HSA-166753\n",
      "2  A0A075B6P5  catalystActivity   R-HSA-166792\n",
      "3  A0A075B6P5            output   R-HSA-173626\n",
      "SH3KBP1\n",
      "['IGKV2-28', 'IGKV2D-30', 'IGKV3D-20', 'IGKV1-12', 'IGLC7', 'IGKV2-29', 'IGKV1D-33', 'IGKV1-33', 'IGKV1-39', 'IGKV1-17', 'IGKV1D-16', 'IGKV1-5', 'IGKV1D-12', 'IGKV2D-40', 'IGKV2D-28', 'IGKV3-20', 'IGKV3-15', 'IGLV1-44', 'IGLV1-47', 'IGLV1-51', 'IGLV1-40', 'IGLV2-14', 'IGLV2-23', 'IGLV2-11', 'IGLV2-8', 'IGLV3-19', 'IGLV3-1', 'IGLV3-25', 'IGLV3-27', 'IGLV6-57', 'IGHV1-69', 'IGHV1-46', 'IGHV3-11', 'IGHV3-48', 'IGHV3-23', 'IGHV3-13', 'IGHV3-53', 'IGHV3-30', 'IGHV3-33', 'IGHV3-7', 'IGHV3-9', 'IGHV2-70', 'IGHV2-5', 'IGHV4-39', 'IGHV4-59', 'IGKC', 'IGHM', 'IGHD', 'IGLV7-43', 'IGKV1-16', 'IGKV1D-39', 'IGKV3-11', 'IGKV2-30', 'IGKV4-1', 'IGKV5-2', 'IGHV4-34', 'IGLC6', 'IGLC1', 'IGLC2', 'IGLC3', 'CD79A', 'VAV1', 'NCK1', 'PLCG2', 'IGHV1-2', 'CD79B', 'SYK', 'GRB2', 'IGLV3-21', 'BTK', 'SOS1', 'BLNK', 'SH3KBP1']\n"
     ]
    }
   ],
   "source": [
    "## 读取各个R-HSA-id对应的属性信息\n",
    "# Protein Reaction\n",
    "import pandas as pd\n",
    "protein_reaction_file= '/public/ref/Msigdb/Reactome/useInfo/Human.ProteinRoleReaction.txt'\n",
    "prf = pd.read_csv(protein_reaction_file,sep='\\t',header=None)\n",
    "print (prf.loc[0:3,0:3])\n",
    "prf.columns = [\"Protein\",'Realation','Reaction']\n",
    "prf[\"Gene\"] = prf['Protein'].apply(lambda x : P2Symbol_dict[x] if x in P2Symbol_dict.keys() else \"None\") ## 寻找对应基因名，若没有则为None\n",
    "prf[\"Name\"] = 'ProteinReaction'\n",
    "ProteinReaction = prf.set_index(['Reaction'])['Gene'].to_dict()\n",
    "reaction_gene_dict = {}\n",
    "for i in range(prf.shape[0]):\n",
    "    if (prf.loc[i,\"Gene\"] != \"None\"):\n",
    "        reaction_gene_dict.setdefault(prf.loc[i,\"Reaction\"],[]).append(prf.loc[i,\"Gene\"]) # 只保留能匹配上基因名的\n",
    "print (ProteinReaction[\"R-HSA-1112666\"])\n",
    "print (reaction_gene_dict['R-HSA-1112666'])\n",
    "\n"
   ]
  },
  {
   "cell_type": "code",
   "execution_count": 16,
   "id": "05b295cf",
   "metadata": {},
   "outputs": [],
   "source": [
    "## 输出ProteinReaction 包含的蛋白对应的基因\n",
    "fnodes =  open(\"reactome_reaction.ProteinReactionNodes.txt\",\"w\")\n",
    "for keys,items in reaction_gene_dict.items():\n",
    "    uniq_gene = ','.join(list(set(reaction_gene_dict[keys])))\n",
    "    fnodes.write(keys + '\\t'+ uniq_gene +'\\n')\n",
    "fnodes.close()"
   ]
  },
  {
   "cell_type": "code",
   "execution_count": 7,
   "id": "02467733",
   "metadata": {},
   "outputs": [
    {
     "name": "stdout",
     "output_type": "stream",
     "text": [
      "         complex        pathway top_level_pathway\n",
      "0  R-ALL-1006146   R-HSA-977606      R-HSA-168256\n",
      "1   R-ALL-113656   R-HSA-113501     R-HSA-1640170\n",
      "2  R-ALL-2239507  R-HSA-3000480     R-HSA-5653656\n"
     ]
    }
   ],
   "source": [
    "# Complex \n",
    "complex_file = \"/public/ref/Msigdb/Reactome/Complex_2_Pathway_human.txt\"\n",
    "cf = pd.read_csv(complex_file,sep='\\t',header=0,)\n",
    "print (cf.iloc[0:3,0:3])\n",
    "cf[\"Name\"] = \"Complex\"\n",
    "ComplexReaction = cf.set_index(['complex'])['Name'].to_dict()"
   ]
  },
  {
   "cell_type": "code",
   "execution_count": 6,
   "id": "00f3e680",
   "metadata": {
    "scrolled": true
   },
   "outputs": [
    {
     "name": "stdout",
     "output_type": "stream",
     "text": [
      "            ewas        pathway top_level_pathway\n",
      "0  R-BAN-5205700  R-HSA-5210891     R-HSA-1643685\n",
      "1  R-BAN-5205702  R-HSA-5210891     R-HSA-1643685\n",
      "2  R-BAN-5205707  R-HSA-5210891     R-HSA-1643685\n"
     ]
    }
   ],
   "source": [
    "# Ewas\n",
    "Ewas_file = \"/public/ref/Msigdb/Reactome/Ewas2Pathway_human.txt\"\n",
    "Ewas = pd.read_csv(Ewas_file,sep='\\t',header=0)\n",
    "print (Ewas.iloc[0:3,0:3])\n",
    "Ewas[\"Name\"] = \"Ewas\"\n",
    "EwasReaction = Ewas.set_index(['ewas'])['Name'].to_dict()"
   ]
  },
  {
   "cell_type": "code",
   "execution_count": 11,
   "id": "28535ace",
   "metadata": {},
   "outputs": [
    {
     "name": "stdout",
     "output_type": "stream",
     "text": [
      "  Interactor 1 uniprot id                       Interactor 1 Ensembl gene id  \\\n",
      "0        uniprotkb:Q9Y287  ENSEMBL:ENSP00000367811|ENSEMBL:ENST0000064780...   \n",
      "1        uniprotkb:P37840  ENSEMBL:ENSP00000338345|ENSEMBL:ENSP0000042695...   \n",
      "2        uniprotkb:P0DJI8  ENSEMBL:ENSP00000348918|ENSEMBL:ENSP0000038490...   \n",
      "\n",
      "  Interactor 1 Entrez Gene id Interactor 2 uniprot id  \\\n",
      "0                           -        uniprotkb:Q9Y287   \n",
      "1                           -        uniprotkb:P37840   \n",
      "2                           -        uniprotkb:P0DJI8   \n",
      "\n",
      "                        Interactor 2 Ensembl gene id  \\\n",
      "0  ENSEMBL:ENSP00000367811|ENSEMBL:ENST0000064780...   \n",
      "1  ENSEMBL:ENSP00000338345|ENSEMBL:ENSP0000042695...   \n",
      "2  ENSEMBL:ENSP00000348918|ENSEMBL:ENSP0000038490...   \n",
      "\n",
      "  Interactor 2 Entrez Gene id      Interaction type  \n",
      "0                           -  physical association  \n",
      "1                           -  physical association  \n",
      "2                           -  physical association  \n"
     ]
    },
    {
     "name": "stderr",
     "output_type": "stream",
     "text": [
      "/tmp/ipykernel_35927/1739281744.py:7: FutureWarning: Series.__getitem__ treating keys as positions is deprecated. In a future version, integer keys will always be treated as labels (consistent with DataFrame behavior). To access a value by position, use `ser.iloc[pos]`\n",
      "  gene1 = row[0].strip(\"uniprotkb:\")\n",
      "/tmp/ipykernel_35927/1739281744.py:8: FutureWarning: Series.__getitem__ treating keys as positions is deprecated. In a future version, integer keys will always be treated as labels (consistent with DataFrame behavior). To access a value by position, use `ser.iloc[pos]`\n",
      "  gene2 = row[3].strip(\"uniprotkb:\")\n",
      "/tmp/ipykernel_35927/1739281744.py:9: FutureWarning: Series.__getitem__ treating keys as positions is deprecated. In a future version, integer keys will always be treated as labels (consistent with DataFrame behavior). To access a value by position, use `ser.iloc[pos]`\n",
      "  reaction_id = row[7].strip(\"reactome:\")\n"
     ]
    }
   ],
   "source": [
    "# PPI file\n",
    "PPI_file = \"/public/ref/Msigdb/Reactome/reactome.homo_sapiens.interactions.tab-delimited.txt\"\n",
    "PPI = pd.read_csv(PPI_file,sep='\\t',header=0)\n",
    "print (PPI.iloc[0:3,0:7])\n",
    "PPI_dict = {}\n",
    "for index,row in PPI.iterrows():\n",
    "    gene1 = row[0].strip(\"uniprotkb:\")\n",
    "    gene2 = row[3].strip(\"uniprotkb:\")\n",
    "    reaction_id = row[7].strip(\"reactome:\")\n",
    "    if (gene1 in P2Symbol_dict.keys()):\n",
    "        PPI_dict.setdefault(reaction_id,[]).append(P2Symbol_dict[gene1])\n",
    "    if (gene2 in P2Symbol_dict.keys()):\n",
    "        PPI_dict.setdefault(reaction_id,[]).append(P2Symbol_dict[gene2])\n",
    "    #break\n",
    "#print (PPI_dict.values())"
   ]
  },
  {
   "cell_type": "code",
   "execution_count": 3,
   "id": "c08e77ec",
   "metadata": {},
   "outputs": [],
   "source": [
    "def Property(id):\n",
    "    reactionname = id\n",
    "    #print (reactionname)\n",
    "    reactionProperty = \"Unknown\"\n",
    "    if (reactionname in ProteinReaction.keys()):\n",
    "        reactionProperty = \"ProteinReaction\"\n",
    "    elif (reactionname in ComplexReaction.keys()):\n",
    "        reactionProperty = \"ComplexReaction\"\n",
    "    elif (reactionname in EwasReaction.keys()):\n",
    "        reactionProperty = \"EwasReaction\"\n",
    "    return reactionProperty"
   ]
  },
  {
   "cell_type": "code",
   "execution_count": 87,
   "id": "484965d7",
   "metadata": {},
   "outputs": [
    {
     "name": "stdout",
     "output_type": "stream",
     "text": [
      "2629\n",
      "start writing\n"
     ]
    },
    {
     "data": {
      "text/plain": [
       "'\\nfnodes =  open(\"reactome_reaction.nodes.txt\",\"w\")\\n\\nfor key,items in node_dict.items():\\n    include_gene = \"\"\\n    if key in PPI_dict.keys():\\n        include_gene = \\',\\'.join(list(set(PPI_dict[key])))\\n        fnodes.write(key+\"\\t\"+items+\\'\\t\\'+include_gene+\"\\n\")\\n    elif key in reaction_gene_dict.keys():\\n        include_gene = \\',\\'.join(list(set(reaction_gene_dict[key])))\\n        fnodes.write(key+\"\\t\"+items+\\'\\t\\'+include_gene+\"\\n\")\\n    else:\\n        fnodes.write(key+\"\\t\"+items+\"\\n\")\\nfnodes.close()\\nprint (\"write done\")\\n'"
      ]
     },
     "execution_count": 87,
     "metadata": {},
     "output_type": "execute_result"
    }
   ],
   "source": [
    "import libsbml\n",
    "import glob\n",
    "import re\n",
    "import os\n",
    "reaction_dir = \"/public/ref/Msigdb/Reactome/HumanReactions\"\n",
    "xml_list = glob.glob(reaction_dir + \"/*.sbml\")\n",
    "print(len(xml_list))\n",
    "\n",
    "\"\"\"\n",
    "sbml_test_file = reaction_dir + \"R-HSA-156581.sbml\"\n",
    "reader = libsbml.SBMLReader()\n",
    "document = reader.readSBML(sbml_test_file)\n",
    "model = document.getModel()\n",
    "for r in range(model.getNumReactions()):\n",
    "        rxn = model.getReaction(r)\n",
    "        for m in range(rxn.getNumModifiers()):\n",
    "            mod = rxn.getModifier(m)\n",
    "            print(mod.getId(), \"in reaction\", rxn.getId())\n",
    "\"\"\"\n",
    "## 依次解析内容\n",
    "node_dict = {} # 存节点信息\n",
    "fp = open(\"reactome_reaction.preedges.txt\",\"w\")\n",
    "for i in range(len(xml_list)):\n",
    "    pathway_ID = os.path.basename(xml_list[i]).rstrip(\".sbml\")\n",
    "    reader = libsbml.SBMLReader()\n",
    "    document = reader.readSBML(xml_list[i])\n",
    "    model = document.getModel()\n",
    "    for r in range(model.getNumReactions()):\n",
    "        rxn = model.getReaction(r)\n",
    "        reaction_id = rxn.getId()\n",
    "        reaction_name = rxn.getName()\n",
    "        input_nodes = []\n",
    "        output_nodes = []\n",
    "    #process_reactome(rxn,\"Modifers\")\n",
    "        for m in range(rxn.getNumReactants()):\n",
    "            mod = rxn.getReactant(m)\n",
    "            x = re.split(\"_| \",mod.getId())\n",
    "            input_nodes.append(\"R-HSA-\" + x[3])\n",
    "        #for e in range(rxn.getNumModifiers()):\n",
    "            #mod = rxn.getModifier(e)\n",
    "            #x = re.split(\"_| \",mod.getId())\n",
    "            #input_nodes.append(\"R-HSA-\" + x[3])\n",
    "        for p in range(rxn.getNumProducts()):\n",
    "            mod = rxn.getProduct(p)\n",
    "            x = re.split(\"_| \",mod.getId())\n",
    "            output_nodes.append(\"R-HSA-\" + x[3])\n",
    "        for i in iter(input_nodes):\n",
    "            for j in iter(output_nodes):\n",
    "                fp.write('\\t'.join([i,j,reaction_id,rxn.getName(),pathway_ID])+\"\\n\")\n",
    "fp.close()\n",
    "print (\"start writing\")\n",
    "'''\n",
    "fnodes =  open(\"reactome_reaction.nodes.txt\",\"w\")\n",
    "\n",
    "for key,items in node_dict.items():\n",
    "    include_gene = \"\"\n",
    "    if key in PPI_dict.keys():\n",
    "        include_gene = ','.join(list(set(PPI_dict[key])))\n",
    "        fnodes.write(key+\"\\t\"+items+'\\t'+include_gene+\"\\n\")\n",
    "    elif key in reaction_gene_dict.keys():\n",
    "        include_gene = ','.join(list(set(reaction_gene_dict[key])))\n",
    "        fnodes.write(key+\"\\t\"+items+'\\t'+include_gene+\"\\n\")\n",
    "    else:\n",
    "        fnodes.write(key+\"\\t\"+items+\"\\n\")\n",
    "fnodes.close()\n",
    "print (\"write done\")\n",
    "'''"
   ]
  },
  {
   "cell_type": "code",
   "execution_count": 12,
   "id": "9a759e0d",
   "metadata": {},
   "outputs": [],
   "source": [
    "def process_reactome(rxn,reaction):\n",
    "    if (reaction == \"Modifers\"):\n",
    "        num = rxn.getNumModifiers()\n",
    "    elif (reaction == \"Reactants\"):\n",
    "        num = rxn.getNumReactants()\n",
    "    elif (reaction == \"Products\"):\n",
    "        num = rxn.getNumProducts()\n",
    "    for m in range(num):\n",
    "        if (reaction == \"Modifers\"):\n",
    "            mod = rxn.getModifier(m)\n",
    "        elif (reaction == \"Reactants\"):\n",
    "            mod = rxn.getReactant(m)\n",
    "        elif (reaction == \"Products\"):\n",
    "            mod = rxn.getProduct(m)\n",
    "        x = re.split(\"_| \",mod.getId())\n",
    "        reaction1_node = \"R-HSA-\" + x[1] ## Reaction\n",
    "    # x[2] is connection : input/output/catalyst/positiveregulator/negativeregulator\n",
    "        reaction2_node = \"R-HSA-\"+ x[3]                       \n",
    "        print ('\\t'.join([reaction1_node,reaction2_node,x[2],rxn.getId(),rxn.getName()]))\n",
    "    #input_nodes.append(relation1_node + \"\\t\" + x[2])\n",
    "    #if (relation2_node != 'output'):\n",
    "        #input_nodes.append(relation2_node + \"\\t\" + x[2])\n",
    "    #    print ()\n",
    "    #else:\n",
    "        #output_nodes.append(relation2_node)\n",
    "    #return (reaction_node,complex_node,relation)"
   ]
  },
  {
   "cell_type": "code",
   "execution_count": null,
   "id": "f27b5bf1",
   "metadata": {
    "scrolled": false
   },
   "outputs": [],
   "source": [
    "import libsbml\n",
    "import glob\n",
    "import re\n",
    "import os\n",
    "reaction_dir = \"/public/ref/Msigdb/Reactome/HumanReactions/\"\n",
    "sbml_test_file = reaction_dir + \"R-HSA-392499.sbml\" # contain 8956184\n",
    "#sbml_test_file = reaction_dir + 'R-HSA-69002.sbml'\n",
    "reader = libsbml.SBMLReader()\n",
    "document = reader.readSBML(sbml_test_file)\n",
    "model = document.getModel()\n",
    "print (model)\n",
    "input_nodes = []\n",
    "output_nodes = []\n",
    "fp = open(\"reactome_reaction.edges.txt\",\"w\")\n",
    "for r in range(model.getNumReactions()):\n",
    "    rxn = model.getReaction(r)\n",
    "    reaction_id = rxn.getId()\n",
    "    #print (reaction_id)\n",
    "    input_nodes = []\n",
    "    output_nodes = []\n",
    "    #process_reactome(rxn,\"Modifers\")\n",
    "    for m in range(rxn.getNumReactants()):\n",
    "        mod = rxn.getReactant(m)\n",
    "        x = re.split(\"_| \",mod.getId())\n",
    "        input_nodes.append(x[3])\n",
    "    #for e in range(rxn.getNumModifiers()):\n",
    "       # mod = rxn.getModifier(e)\n",
    "        #x = re.split(\"_| \",mod.getId())\n",
    "        #input_nodes.append(x[3])\n",
    "    for p in range(rxn.getNumProducts()):\n",
    "        mod = rxn.getProduct(p)\n",
    "        x = re.split(\"_| \",mod.getId())\n",
    "        output_nodes.append(x[3])\n",
    "    for i in iter(input_nodes):\n",
    "        for j in iter(output_nodes):\n",
    "            print ('\\t'.join([i,j,reaction_id,rxn.getName()]))\n",
    "    #break"
   ]
  },
  {
   "cell_type": "code",
   "execution_count": 1,
   "id": "3ba393b9",
   "metadata": {},
   "outputs": [
    {
     "name": "stdout",
     "output_type": "stream",
     "text": [
      "(207075, 5)\n",
      "(44544, 3)\n",
      "           input         output       reaction\n",
      "0  R-HSA-5227016  R-HSA-5226961  R-HSA-5226999\n",
      "1  R-HSA-5216222  R-HSA-5226961  R-HSA-5226999\n",
      "2    R-HSA-29926   R-HSA-109496  R-HSA-5336466\n",
      "3  R-HSA-5216222  R-HSA-5226996  R-HSA-5226979\n",
      "4   R-HSA-420433  R-HSA-5226996  R-HSA-5226979\n",
      "R-HSA-5216222\n"
     ]
    }
   ],
   "source": [
    "## 处理预生成的reactome_reaction.preedges.txt，根据input - output 信息确定reaction之间的边关系\n",
    "# 先记录reaction_id 对应的所有output，再遍历一遍，若input是某个reaction的output之一，则记录\n",
    "import pandas as pd\n",
    "preEdge = pd.read_csv(\"/public/home/liujunwu/workdir/scripts/GNN_Reactome/reaction_file/reactome_reaction.preedges.txt\",header=None,sep='\\t',index_col=False,low_memory=False)\n",
    "preEdge.columns = [\"input\",\"output\",\"reaction\",\"reaction_name\",\"pathway\"]\n",
    "print (preEdge.shape)\n",
    "preEdge = preEdge.loc[:,[\"input\",\"output\",\"reaction\"]].drop_duplicates(keep='first').reset_index(drop=True)\n",
    "print (preEdge.shape)\n",
    "reaction_output_dict ={}\n",
    "preEdge['reaction'] = preEdge['reaction'].str.replace(\"reaction_\",\"R-HSA-\") ## 替换reaction name 由reaction_xxx -> R-HSA-xxx\n",
    "print (preEdge.iloc[0:5,0:5])\n",
    "print (preEdge.loc[1,\"input\"])\n",
    "for i in range(preEdge.shape[0]): \n",
    "    reaction_output_dict.setdefault(preEdge.loc[i,\"reaction\"],[]).append(preEdge.loc[i,\"output\"])"
   ]
  },
  {
   "cell_type": "code",
   "execution_count": 12,
   "id": "b846c86a",
   "metadata": {},
   "outputs": [],
   "source": [
    "## 文章里面的reaction edges 40032, preEdge反应物中的唯一关系对（ppi）为35728，文章还有其他物种\n",
    "\n",
    "fp = open(\"reactome_reaction.edges.txt\",\"w\")\n",
    "#fe = open(\"reactome_reaction.product-reactant.edges.txt\",\"w\")\n",
    "record_edge = {}\n",
    "#product_reactant = {}\n",
    "for j in range(preEdge.shape[0]):\n",
    "    input_input = preEdge.loc[j,\"input\"]\n",
    "    input_reaction = preEdge.loc[j,\"reaction\"]\n",
    "    for key in reaction_output_dict.keys():## key 即为output_reaction      \n",
    "        if (input_input in reaction_output_dict[key]): # 一个reaction的input是另一个reaction的output\n",
    "            edge1_property = Property(key)\n",
    "            edge2_property = Property(input_reaction)\n",
    "            #product_reactant['\\t'.join(key,input_reaction)]\n",
    "            record_edge['\\t'.join([key,input_reaction,edge1_property,edge2_property])] = 1\n",
    "            #fp.write('\\t'.join([key,input_reaction])+ '\\n')\n",
    "        else:\n",
    "            pass\n",
    "    #break\n",
    "#print (record_edge.shape)\n",
    "for k1 in record_edge.keys():\n",
    "    fp.write(k1+ '\\n')\n",
    "fp.close()\n"
   ]
  },
  {
   "cell_type": "code",
   "execution_count": 4,
   "id": "6db3fe35",
   "metadata": {},
   "outputs": [
    {
     "ename": "NameError",
     "evalue": "name 'PPI_dict' is not defined",
     "output_type": "error",
     "traceback": [
      "\u001b[0;31m---------------------------------------------------------------------------\u001b[0m",
      "\u001b[0;31mNameError\u001b[0m                                 Traceback (most recent call last)",
      "Input \u001b[0;32mIn [4]\u001b[0m, in \u001b[0;36m<cell line: 4>\u001b[0;34m()\u001b[0m\n\u001b[1;32m      4\u001b[0m \u001b[38;5;28;01mfor\u001b[39;00m keys \u001b[38;5;129;01min\u001b[39;00m uniq_key:\n\u001b[1;32m      5\u001b[0m     include_gene \u001b[38;5;241m=\u001b[39m \u001b[38;5;124m\"\u001b[39m\u001b[38;5;124m\"\u001b[39m\n\u001b[0;32m----> 6\u001b[0m     \u001b[38;5;28;01mif\u001b[39;00m keys \u001b[38;5;129;01min\u001b[39;00m \u001b[43mPPI_dict\u001b[49m\u001b[38;5;241m.\u001b[39mkeys():\n\u001b[1;32m      7\u001b[0m         include_gene \u001b[38;5;241m=\u001b[39m \u001b[38;5;124m'\u001b[39m\u001b[38;5;124m,\u001b[39m\u001b[38;5;124m'\u001b[39m\u001b[38;5;241m.\u001b[39mjoin(\u001b[38;5;28mlist\u001b[39m(\u001b[38;5;28mset\u001b[39m(PPI_dict[keys])))\n\u001b[1;32m      8\u001b[0m         fnodes\u001b[38;5;241m.\u001b[39mwrite(keys\u001b[38;5;241m+\u001b[39m\u001b[38;5;124m\"\u001b[39m\u001b[38;5;130;01m\\t\u001b[39;00m\u001b[38;5;124m\"\u001b[39m\u001b[38;5;241m+\u001b[39minclude_gene\u001b[38;5;241m+\u001b[39m\u001b[38;5;124m\"\u001b[39m\u001b[38;5;130;01m\\n\u001b[39;00m\u001b[38;5;124m\"\u001b[39m)\n",
      "\u001b[0;31mNameError\u001b[0m: name 'PPI_dict' is not defined"
     ]
    }
   ],
   "source": [
    "fnodes =  open(\"reactome_reaction.nodes.txt\",\"w\")\n",
    "#for key,items in reaction_output_dict.items():\n",
    "uniq_key = set(reaction_output_dict.keys())\n",
    "for keys in uniq_key:\n",
    "    include_gene = \"\"\n",
    "    if keys in PPI_dict.keys():\n",
    "        include_gene = ','.join(list(set(PPI_dict[keys])))\n",
    "        fnodes.write(keys+\"\\t\"+include_gene+\"\\n\")\n",
    "    elif key in reaction_gene_dict.keys():\n",
    "        include_gene = ','.join(list(set(reaction_gene_dict[keys])))\n",
    "        fnodes.write(keys+\"\\t\"+include_gene+\"\\n\")\n",
    "    else:\n",
    "        fnodes.write(keys+\"\\n\")\n",
    "fnodes.close()\n",
    "print (\"write done\")"
   ]
  },
  {
   "cell_type": "code",
   "execution_count": 105,
   "id": "18f94866",
   "metadata": {},
   "outputs": [],
   "source": [
    "def encode_onehot(labels):\n",
    "    classes = set(labels)\n",
    "    classes_dict = {c: np.identity(len(classes))[i, :] for i, c in enumerate(classes)}\n",
    "    labels_onehot = np.array(list(map(classes_dict.get, labels)), dtype=np.int64)\n",
    "    return labels_onehot"
   ]
  },
  {
   "cell_type": "code",
   "execution_count": 108,
   "id": "782ab5df",
   "metadata": {},
   "outputs": [
    {
     "data": {
      "text/plain": [
       "array([[0, 1, 0, 0, 0, 0, 0, 0, 0, 0, 0],\n",
       "       [0, 0, 1, 0, 0, 0, 0, 0, 0, 0, 0],\n",
       "       [0, 0, 0, 1, 0, 0, 0, 0, 0, 0, 0],\n",
       "       [0, 0, 0, 0, 1, 0, 0, 0, 0, 0, 0],\n",
       "       [0, 0, 0, 0, 0, 1, 0, 0, 0, 0, 0],\n",
       "       [0, 0, 0, 0, 0, 0, 1, 0, 0, 0, 0],\n",
       "       [0, 0, 0, 0, 0, 0, 1, 0, 0, 0, 0],\n",
       "       [0, 0, 0, 0, 0, 0, 0, 1, 0, 0, 0],\n",
       "       [0, 0, 0, 0, 0, 0, 0, 0, 1, 0, 0],\n",
       "       [0, 0, 0, 0, 0, 0, 0, 0, 1, 0, 0],\n",
       "       [0, 0, 0, 0, 0, 0, 0, 0, 0, 1, 0],\n",
       "       [1, 0, 0, 0, 0, 0, 0, 0, 0, 0, 0],\n",
       "       [0, 0, 0, 0, 0, 0, 0, 0, 0, 0, 1]])"
      ]
     },
     "execution_count": 108,
     "metadata": {},
     "output_type": "execute_result"
    }
   ],
   "source": [
    "import numpy as np\n",
    "encode_onehot([1,2,3,4,5,6,6,7,8,8,9,0,10])"
   ]
  }
 ],
 "metadata": {
  "kernelspec": {
   "display_name": "Python 3 (ipykernel)",
   "language": "python",
   "name": "python3"
  },
  "language_info": {
   "codemirror_mode": {
    "name": "ipython",
    "version": 3
   },
   "file_extension": ".py",
   "mimetype": "text/x-python",
   "name": "python",
   "nbconvert_exporter": "python",
   "pygments_lexer": "ipython3",
   "version": "3.9.16"
  }
 },
 "nbformat": 4,
 "nbformat_minor": 5
}
