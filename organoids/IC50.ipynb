import seaborn as sns
current_palette = sns.color_palette()
current_palette

### 本例中示例数据不还好，待后续更新
## 数据预处理方案
#输入定义为三块板：1、样本 2、浓度 3、结果值
import pandas as pd
import numpy as np
sample_info = pd.read_csv('sample_plate.info',sep='\t',header=None)
con_info = pd.read_csv('concentration_plate.info',sep='\t',header=None)
value_info = pd.read_csv('value_plate.info',sep='\t',header=None)
sample_info = sample_info.reset_index().melt(id_vars='index', var_name='col', value_name='sample')
con_info = con_info.reset_index().melt(id_vars='index', var_name='col', value_name='concentration')
value_info = value_info.reset_index().melt(id_vars='index', var_name='col', value_name='value')

## 合并三个表格
merged_df = sample_info.merge(con_info, on=['index', 'col']).merge(value_info, on=['index', 'col'])

## 从数据表中提取指定的空白对照，阴性对照，阳性对照等,
blank_control_name = ['空白对照1','空白对照2']
drug1 = '紫杉醇'
drug2 = '吉非替尼'
drug1_negative_control_name = '紫杉醇阴性对照'
drug2_negative_control_name = '吉非替尼阴性对照'
drug1_positive_control_name = '紫杉醇阳性对照'
drug2_positive_control_name = '吉非替尼阳性对照'

##  计算细胞活性
blank_control_mean = merged_df[merged_df['sample'].isin(blank_control_name)][['value']].values.mean() ## 所有空白对照的均值
drug1_negative_control_mean = merged_df[merged_df['sample'].isin([drug1_negative_control_name])][['value']].values.mean()
drug2_negative_control_mean = merged_df[merged_df['sample'].isin([drug2_negative_control_name])][['value']].values.mean()

test_sample_df = merged_df[merged_df['sample'].isin([drug1,drug2])]
print (test_sample_df.head())

def cal_viability(drugname,value):
    #print (drugname,value)
    if drugname in drug1_negative_control_name:
        return (value-blank_control_mean)/(drug1_negative_control_mean-blank_control_mean)
    elif drugname in drug2_negative_control_name:
        return (value-blank_control_mean)/(drug2_negative_control_mean-blank_control_mean)
    else:
        print (drugname,drug1_negative_control_name,drug2_negative_control_name)
        return None
test_sample_df['Viability'] = test_sample_df.apply(lambda x: cal_viability(x['sample'],x['value']),axis=1)
test_sample_df.head()

### 以样本-浓度-值为键的嵌套字典结构

nested_dict = {}
for _, row in test_sample_df.iterrows():
    sample = row['sample']
    concentration = row['concentration']
    value = row['Viability']
    
    if sample not in nested_dict:
        nested_dict[sample] = {}
    if concentration not in nested_dict[sample]:
        nested_dict[sample][concentration] = []
    nested_dict[sample][concentration].append(value)
print (nested_dict)

import numpy as np
import matplotlib.pyplot as plt
from matplotlib import rcParams
from scipy.optimize import curve_fit
import warnings
warnings.filterwarnings("ignore")

plt.rcParams['font.sans-serif'] = ['FreeSerif']  # 
plt.rcParams['axes.unicode_minus'] = False 
plt.rcParams['font.size'] = 15

# 定义四参数 逻辑回归 模型
def four_param_logistic(x, top, bottom, ic50, slope):
    return bottom + (top - bottom) / (1 + 10**((np.log10(ic50)-x)* slope))

response_labels = [drug1,drug2]
plt.figure(figsize=(8, 6))

for i in range(0,len(response_labels)):
    drug = response_labels[i]
    concentrations = np.array(list(nested_dict[drug].keys()))
    concentrations_log = np.log10(concentrations)
    response = np.array(list(nested_dict[drug].values()))
    mean_response = np.mean(response,axis=1) # 获取响应值的均值
    std_response = np.std(response, axis=1)    # 获取响应值的标准差
    print (concentrations_log,mean_response)
# 使用 curve_fit 拟合曲线
# 初始参数：bottom=0, top=100, ic50=1, hill_slope=1
    p0 = [np.max(response), 1, np.median(concentrations_log), np.min(response)]
    bottom_init = np.min(response)
    top_init = np.max(response)
    ic50_init = np.mean(response)  # 或选择接近 50% 的点
    hill_slope_init = 1.0  # 假设为 1
    #print (bottom_init, top_init, ic50_init, hill_slope_init)
    popt = None
    pcov = None
    popt, pcov = curve_fit(four_param_logistic, concentrations_log, mean_response,bounds=([0,0,0,-2],[100,1000,100,10]))
# 提取拟合参数
    bottom, top, ic50, hill_slope = popt
    print (popt)
    print(f"IC50 value: {np.log10(ic50):.4f} µM")

# 生成拟合曲线
    x_fit = np.logspace(min(concentrations_log), max(concentrations_log), 1000)  # 生成浓度范围
    y_fit = four_param_logistic(np.log10(x_fit), bottom, top, ic50, hill_slope)

# 绘制数据点和拟合曲线
    plt.plot(x_fit, y_fit, color=current_palette[i])
    plt.errorbar(concentrations, mean_response, yerr=std_response, fmt='o', capsize=5, color=current_palette[i])
    plt.scatter(concentrations, mean_response, color=current_palette[i],label=response_labels[i])
    #break
plt.xscale('log')
plt.grid(False) ## 去除网格线
plt.xlabel('Concentration (µM)')
plt.ylabel('cell ratio (%)')
plt.title('')
plt.legend()
#plt.grid(True, which="both", ls="--")
plt.show()

### tips
# 设置 X 轴为对数刻度
#plt.xscale('log')
# 设置 X 轴范围
#plt.xlim(1, 100)  # 限制 X 轴范围为 [1, 100]
# 设置 X 轴刻度位置和标签
#plt.xticks([1, 10, 100], ['1', '10', '100']) 


## ## 暂时弃用，
## 方案一：使用HTS_doseresponse包
# https://medium.com/@sahmcphee/high-throughput-dose-response-data-analysis-47d27d2bf545
from HTS_doseresponse import *
hts_df = test_sample_df[['drug','concentration','Viability']]
hts_df.columns = ['sample_name','conc_nM','response']
hts_df.index = hts_df['sample_name']
hts_df = hts_df.drop(['sample_name'],axis=1)
print (hts_df.head())
hts_df = process_doseresponse_df(hts_df)
print (hts_df.head())
f = swarmplot_IC50results(hts_df)
plt.show()
