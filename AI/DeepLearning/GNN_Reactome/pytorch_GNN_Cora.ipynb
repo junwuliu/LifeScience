{
 "cells": [
  {
   "cell_type": "code",
   "execution_count": 55,
   "id": "7d65a06a",
   "metadata": {},
   "outputs": [],
   "source": [
    "import torch\n",
    "import numpy as np\n",
    "import torch.nn.functional as F\n",
    "import scipy.sparse as sp\n",
    "from torch_geometric.nn import GCNConv,GATConv,SAGEConv\n",
    "from torch_geometric.datasets import Planetoid"
   ]
  },
  {
   "cell_type": "code",
   "execution_count": 56,
   "id": "86475fc0",
   "metadata": {},
   "outputs": [],
   "source": [
    "# 把标签转换成onehot\n",
    "def encode_onehot(labels):                                   \n",
    "    classes = set(labels)\n",
    "    classes_dict = {c: np.identity(len(classes))[i, :] for i, c in enumerate(classes)}\n",
    "    labels_onehot = np.array(list(map(classes_dict.get, labels)), dtype=np.int32)\n",
    "    return labels_onehot"
   ]
  },
  {
   "cell_type": "code",
   "execution_count": 66,
   "id": "21900968",
   "metadata": {},
   "outputs": [
    {
     "name": "stdout",
     "output_type": "stream",
     "text": [
      "[[0 1 0 0 0]\n",
      " [0 0 1 0 0]\n",
      " [0 0 0 0 1]\n",
      " [0 0 0 1 0]\n",
      " [1 0 0 0 0]]\n"
     ]
    }
   ],
   "source": [
    "# 测试onehot函数\n",
    "labels = (\"input\",\"output\",\"entityFunctionalStatus\",\"catalystActivity\",\"regulatedBy\")\n",
    "a = encode_onehot(labels)\n",
    "print (a)"
   ]
  },
  {
   "cell_type": "code",
   "execution_count": 72,
   "id": "cdc18b63",
   "metadata": {},
   "outputs": [],
   "source": [
    "def normalize(mx):                                          # 归一化\n",
    "    rowsum = np.array(mx.sum(1))\n",
    "    r_inv = np.power(rowsum, -1).flatten() ## 幂\n",
    "    r_inv[np.isinf(r_inv)] = 0.\n",
    "    r_mat_inv = sp.diags(r_inv) # 对角化\n",
    "    mx = r_mat_inv.dot(mx) # 乘积\n",
    "    return mx"
   ]
  },
  {
   "cell_type": "code",
   "execution_count": 79,
   "id": "19467a85",
   "metadata": {},
   "outputs": [
    {
     "name": "stdout",
     "output_type": "stream",
     "text": [
      "[[ 0.  2.  4.  6.  8.]\n",
      " [10. 12. 14. 16. 18.]\n",
      " [20. 22. 24. 26. 28.]]\n",
      "[ 20.  70. 120.]\n",
      "[0.05       0.01428571 0.00833333]\n",
      "[[0.         0.1        0.2        0.3        0.4       ]\n",
      " [0.14285715 0.17142858 0.2        0.22857143 0.25714287]\n",
      " [0.16666667 0.18333334 0.20000002 0.21666668 0.23333335]]\n"
     ]
    }
   ],
   "source": [
    "# 测试normailize 函数\n",
    "mx1 =  np.arange(0, 30, 2).reshape(3,5).astype(np.float32)\n",
    "print (mx1)\n",
    "rowsum = np.array(mx1.sum(1))\n",
    "print (rowsum)\n",
    "r_inv = np.power(rowsum, -1).flatten()\n",
    "print (r_inv)\n",
    "print (normalize(mx1))\n",
    "#a = torch.rand(2,3,4)\n",
    "#print (a)"
   ]
  },
  {
   "cell_type": "code",
   "execution_count": 87,
   "id": "a90dc04b",
   "metadata": {},
   "outputs": [
    {
     "name": "stdout",
     "output_type": "stream",
     "text": [
      "['Neural_Networks' 'Rule_Learning' 'Reinforcement_Learning' ...\n",
      " 'Genetic_Algorithms' 'Case_Based' 'Neural_Networks']\n"
     ]
    }
   ],
   "source": [
    "def  load_data(nodes=\"/public/home/liujunwu/workdir/scripts/GNN_Reactome/test_data/Cora/Cora/cora.content\",edges=\"/public/home/liujunwu/workdir/scripts/GNN_Reactome/test_data/Cora/Cora/cora.cites\"):\n",
    "    idx_features_labels = np.genfromtxt(\"{}\".format(nodes),dtype=np.dtype(str))# 读取节点特征和标签\n",
    "    print (idx_features_labels[:,-1])\n",
    "    features = sp.csr_matrix(idx_features_labels[:, 1:-1], dtype=np.float32) # 读取节点特征\n",
    "    dict = {int(element):i for i,element in enumerate(idx_features_labels[:, 0:1].reshape(-1))}    # 建立字典\n",
    "    labels = encode_onehot(idx_features_labels[:, -1])                       # 节点标签用onehot方式表示\n",
    "    e = np.genfromtxt(\"{}\".format(edges), dtype=np.int32)    # 读取边信息\n",
    "    edges = []\n",
    "    for i, x in enumerate(e):\n",
    "        edges.append([dict[e[i][0]], dict[e[i][1]]])                         # 若A->B有边 则B->A 也有边   ### 后续这里要修改？需要是有向图                 \n",
    "        edges.append([dict[e[i][1]], dict[e[i][0]]])                         # 给的数据是没有从0开始需要转换\n",
    "    features = normalize(features)                                           # 特征值归一化       \n",
    "    features = torch.tensor(np.array(features.todense()), dtype=torch.float32)\n",
    "    labels = torch.LongTensor(np.where(labels)[1])                       \n",
    "    edges = torch.tensor(edges, dtype=torch.int64).T\n",
    "    return features, edges, labels\n",
    "features, edges, labels = load_data()                         \n",
    "idx_train = range(2000)                                       # 其中2000个点是训练数据                   \n",
    "idx_test = range(2000, 2700)                                  # 700个测试数据\n",
    "idx_train = torch.LongTensor(idx_train) # 用于表示包含整数（64整型数据）的张量\n",
    "idx_test = torch.LongTensor(idx_test)\n",
    "#print (labels.tolist()) "
   ]
  },
  {
   "cell_type": "code",
   "execution_count": 93,
   "id": "2b2aabc2",
   "metadata": {},
   "outputs": [],
   "source": [
    "class GCN(torch.nn.Module):\n",
    "    def __init__(self,feature,hidden,classes):\n",
    "        super(GCN, self).__init__()\n",
    "        self.conv1 = GCNConv(feature, hidden)  #输入=节点特征维度，hidden是中间隐藏神经元个数\n",
    "        self.conv2 = GCNConv(hidden, classes)\n",
    "    def forward(self, features, edges):\n",
    "        features = self.conv1(features, edges)\n",
    "        features = F.relu(features)\n",
    "        features = F.dropout(features, training=self.training)\n",
    "        features = self.conv2(features, edges)\n",
    "        return F.log_softmax(features, dim=1)"
   ]
  },
  {
   "cell_type": "code",
   "execution_count": 94,
   "id": "daa2c08e",
   "metadata": {},
   "outputs": [],
   "source": [
    "# 设置参数和模型定义\n",
    "device = torch.device('cuda' if torch.cuda.is_available() else 'cpu')\n",
    "model = GCN(1433, 64, 7)                                               # 节点特征维度，隐藏神经元个数，标签数目\n",
    "optimizer = torch.optim.Adam(model.parameters(),lr=0.01,weight_decay=5e-4)               # 梯度优化算法"
   ]
  },
  {
   "cell_type": "code",
   "execution_count": 97,
   "id": "3f5682b4",
   "metadata": {},
   "outputs": [
    {
     "name": "stdout",
     "output_type": "stream",
     "text": [
      "epoch:252, loss:0.3696596324443817\n",
      "epoch:253, loss:0.364935964345932\n",
      "epoch:254, loss:0.3683640658855438\n",
      "epoch:255, loss:0.3657892048358917\n",
      "epoch:256, loss:0.3638060390949249\n",
      "epoch:257, loss:0.3660072982311249\n",
      "epoch:258, loss:0.36475828289985657\n",
      "epoch:259, loss:0.36472803354263306\n",
      "epoch:260, loss:0.36476242542266846\n",
      "epoch:261, loss:0.36531245708465576\n",
      "epoch:262, loss:0.3770420253276825\n",
      "epoch:263, loss:0.3715515434741974\n",
      "epoch:264, loss:0.37264105677604675\n",
      "epoch:265, loss:0.36958810687065125\n",
      "epoch:266, loss:0.36638206243515015\n",
      "epoch:267, loss:0.3630881905555725\n",
      "epoch:268, loss:0.3794698417186737\n",
      "epoch:269, loss:0.369625061750412\n",
      "epoch:270, loss:0.3701733648777008\n",
      "epoch:271, loss:0.3751410245895386\n",
      "epoch:272, loss:0.36737310886383057\n",
      "epoch:273, loss:0.36584511399269104\n",
      "epoch:274, loss:0.378248929977417\n",
      "epoch:275, loss:0.37657520174980164\n",
      "epoch:276, loss:0.3594202995300293\n",
      "epoch:277, loss:0.3686261773109436\n",
      "epoch:278, loss:0.3610154688358307\n",
      "epoch:279, loss:0.3707183599472046\n",
      "epoch:280, loss:0.37201184034347534\n",
      "epoch:281, loss:0.36671310663223267\n",
      "epoch:282, loss:0.36729761958122253\n",
      "epoch:283, loss:0.3690580129623413\n",
      "epoch:284, loss:0.3674565255641937\n",
      "epoch:285, loss:0.35744431614875793\n",
      "epoch:286, loss:0.36719533801078796\n",
      "epoch:287, loss:0.36727699637413025\n",
      "epoch:288, loss:0.3681260645389557\n",
      "epoch:289, loss:0.3660051226615906\n",
      "epoch:290, loss:0.3741512894630432\n",
      "epoch:291, loss:0.3635961413383484\n",
      "epoch:292, loss:0.3731101453304291\n",
      "epoch:293, loss:0.3686520457267761\n",
      "epoch:294, loss:0.365024596452713\n",
      "epoch:295, loss:0.3724896311759949\n",
      "epoch:296, loss:0.3617793619632721\n",
      "epoch:297, loss:0.37341615557670593\n",
      "epoch:298, loss:0.3710658550262451\n",
      "epoch:299, loss:0.3721224367618561\n",
      "epoch:300, loss:0.37016260623931885\n"
     ]
    }
   ],
   "source": [
    "#模型训练\n",
    "model.train()\n",
    "for epoch in range(300):\n",
    "    optimizer.zero_grad()\n",
    "    out = model(features, edges)    #模型的输入有节点特征还有边特征,使用的是全部数据\n",
    "    loss = F.nll_loss(out[idx_train], labels[idx_train])    #损失仅仅计算的是训练集的损失\n",
    "    loss.backward()\n",
    "    optimizer.step()\n",
    "    if (epoch > 250):\n",
    "        print(f\"epoch:{epoch+1}, loss:{loss.item()}\")\n",
    "    else:\n",
    "        pass\n",
    "\n"
   ]
  },
  {
   "cell_type": "code",
   "execution_count": 99,
   "id": "4bdd318a",
   "metadata": {},
   "outputs": [
    {
     "name": "stdout",
     "output_type": "stream",
     "text": [
      "0.8557142857142858\n"
     ]
    },
    {
     "data": {
      "text/plain": [
       "\"\\ntest_predict = model(data.x, data.edge_index)[data.test_mask]\\nmax_index = torch.argmax(test_predict, dim=1)\\ntest_true = data.y[data.test_mask]\\ncorrect = 0\\nfor i in range(len(max_index)):\\n    if max_index[i] == test_true[i]:\\n        correct += 1\\nprint('测试集准确率为：{}%'.format(correct*100/len(test_true)\\n\""
      ]
     },
     "execution_count": 99,
     "metadata": {},
     "output_type": "execute_result"
    }
   ],
   "source": [
    "#测试：\n",
    "model.eval()\n",
    "_,pred = model(features,edges).max(dim=1)\n",
    "\n",
    "correct = pred[idx_test].eq(labels[idx_test]).sum()            # 计算预测与标签相等个数\n",
    "acc = int(correct) / int(len(idx_test))                        # 计算正确率\n",
    "print(acc)\n",
    "# 另一种写法\n",
    "'''\n",
    "test_predict = model(data.x, data.edge_index)[data.test_mask]\n",
    "max_index = torch.argmax(test_predict, dim=1)\n",
    "test_true = data.y[data.test_mask]\n",
    "correct = 0\n",
    "for i in range(len(max_index)):\n",
    "    if max_index[i] == test_true[i]:\n",
    "        correct += 1\n",
    "print('测试集准确率为：{}%'.format(correct*100/len(test_true)\n",
    "'''"
   ]
  }
 ],
 "metadata": {
  "kernelspec": {
   "display_name": "Python 3 (ipykernel)",
   "language": "python",
   "name": "python3"
  },
  "language_info": {
   "codemirror_mode": {
    "name": "ipython",
    "version": 3
   },
   "file_extension": ".py",
   "mimetype": "text/x-python",
   "name": "python",
   "nbconvert_exporter": "python",
   "pygments_lexer": "ipython3",
   "version": "3.9.16"
  }
 },
 "nbformat": 4,
 "nbformat_minor": 5
}
