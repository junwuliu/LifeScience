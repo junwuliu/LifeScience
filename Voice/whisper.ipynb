{
 "cells": [
  {
   "cell_type": "code",
   "execution_count": 18,
   "metadata": {},
   "outputs": [],
   "source": [
    "import time\n",
    "from datetime import datetime, timedelta\n",
    "import subprocess\n",
    "import re\n",
    "import datetime\n",
    "from datetime import timedelta\n",
    "import whisper\n",
    "import imageio\n",
    "from tqdm import tqdm\n",
    "import os"
   ]
  },
  {
   "cell_type": "code",
   "execution_count": 2,
   "metadata": {},
   "outputs": [
    {
     "name": "stderr",
     "output_type": "stream",
     "text": [
      "/public/home/liujunwu/software/miniconda3/envs/xinference/lib/python3.9/site-packages/tqdm/auto.py:21: TqdmWarning: IProgress not found. Please update jupyter and ipywidgets. See https://ipywidgets.readthedocs.io/en/stable/user_install.html\n",
      "  from .autonotebook import tqdm as notebook_tqdm\n",
      "2024-08-15 14:41:29,254\tINFO util.py:154 -- Missing packages: ['ipywidgets']. Run `pip install -U ipywidgets`, then restart the notebook server for rich notebook output.\n"
     ]
    }
   ],
   "source": [
    "from xinference.client import Client\n",
    "client = Client(\"http://192.168.1.207:9997\")\n",
    "model = client.get_model(\"whisper-medium\")\n",
    "#with open(\"/public/home/liujunwu/workdir/Voice/1.wav\", \"rb\") as audio_file:\n",
    "#   model.transcriptions(audio=audio_file.read())"
   ]
  },
  {
   "cell_type": "code",
   "execution_count": 24,
   "metadata": {},
   "outputs": [],
   "source": [
    "model = whisper.load_model('small',download_root='/public/home/liujunwu/workdir/Voice')"
   ]
  },
  {
   "cell_type": "code",
   "execution_count": 4,
   "metadata": {},
   "outputs": [
    {
     "ename": "ModuleNotFoundError",
     "evalue": "No module named 'moviepy'",
     "output_type": "error",
     "traceback": [
      "\u001b[0;31m---------------------------------------------------------------------------\u001b[0m",
      "\u001b[0;31mModuleNotFoundError\u001b[0m                       Traceback (most recent call last)",
      "Cell \u001b[0;32mIn[4], line 5\u001b[0m\n\u001b[1;32m      2\u001b[0m file_wav \u001b[38;5;241m=\u001b[39m \u001b[38;5;124m'\u001b[39m\u001b[38;5;124m/public/home/liujunwu/workdir/Voice/1benching.wav\u001b[39m\u001b[38;5;124m'\u001b[39m\n\u001b[1;32m      3\u001b[0m \u001b[38;5;66;03m# 先提取出音轨wav\u001b[39;00m\n\u001b[0;32m----> 5\u001b[0m \u001b[38;5;28;01mfrom\u001b[39;00m \u001b[38;5;21;01mmoviepy\u001b[39;00m\u001b[38;5;21;01m.\u001b[39;00m\u001b[38;5;21;01meditor\u001b[39;00m \u001b[38;5;28;01mimport\u001b[39;00m AudioFileClip\n\u001b[1;32m      7\u001b[0m my_audio \u001b[38;5;241m=\u001b[39m AudioFileClip(file_url)\n\u001b[1;32m      8\u001b[0m my_audio\u001b[38;5;241m.\u001b[39mwrite_audiofile(file_wav)\n",
      "\u001b[0;31mModuleNotFoundError\u001b[0m: No module named 'moviepy'"
     ]
    }
   ],
   "source": [
    "from moviepy.editor import AudioFileClip\n",
    "\n",
    "file_mp4 = '/public/home/liujunwu/workdir/Voice/benching.mp4'\n",
    "file_wav = '/public/home/liujunwu/workdir/Voice/1benching.wav'\n",
    "# 先提取出音轨wav\n",
    "\n",
    "my_audio = AudioFileClip(file_url)\n",
    "my_audio.write_audiofile(file_wav)"
   ]
  },
  {
   "cell_type": "code",
   "execution_count": 3,
   "metadata": {},
   "outputs": [],
   "source": [
    "# 将毫秒转为字幕格式时间值\n",
    "def ms_to_time_string(*, ms=0, seconds=None):\n",
    "    # 计算小时、分钟、秒和毫秒\n",
    "    if seconds is None:\n",
    "        td = timedelta(milliseconds=ms)\n",
    "    else:\n",
    "        td = timedelta(seconds=seconds)\n",
    "    hours, remainder = divmod(td.seconds, 3600)\n",
    "    minutes, seconds = divmod(remainder, 60)\n",
    "    milliseconds = td.microseconds // 1000\n",
    "\n",
    "    time_string = f\"{str(hours).zfill(2)}:{str(minutes).zfill(2)}:{str(seconds).zfill(2)},{str(milliseconds).zfill(3)}\"\n",
    "    return time_string"
   ]
  },
  {
   "cell_type": "code",
   "execution_count": 13,
   "metadata": {},
   "outputs": [],
   "source": [
    "def seconds_to_hmsm(seconds):\n",
    "    \"\"\"\n",
    "    输入一个秒数，输出为H:M:S:M时间格式\n",
    "    @params:\n",
    "        seconds   - Required  : 秒 (float)\n",
    "    \"\"\"\n",
    "    hours = str(int(seconds // 3600))\n",
    "    minutes = str(int((seconds % 3600) // 60))\n",
    "    seconds = seconds % 60\n",
    "    milliseconds = str(int(int((seconds - int(seconds)) * 1000))) # 毫秒留三位\n",
    "    seconds = str(int(seconds))\n",
    "    # 补0\n",
    "    if len(hours) < 2:\n",
    "        hours = '0' + hours\n",
    "    if len(minutes) < 2:\n",
    "        minutes = '0' + minutes\n",
    "    if len(seconds) < 2:\n",
    "        seconds = '0' + seconds\n",
    "    if len(milliseconds) < 3:\n",
    "        milliseconds = '0'*(3-len(milliseconds)) + milliseconds\n",
    "    return f\"{hours}:{minutes}:{seconds},{milliseconds}\""
   ]
  },
  {
   "cell_type": "code",
   "execution_count": 46,
   "metadata": {},
   "outputs": [
    {
     "name": "stderr",
     "output_type": "stream",
     "text": [
      "  0%|          | 0/2 [00:00<?, ?it/s]"
     ]
    },
    {
     "name": "stdout",
     "output_type": "stream",
     "text": [
      "Sample Management Recording.mp4 Sample Management Recording.mp4 Sample Management Recording.srt\n",
      "正在识别： --2024-08-16 09:56:47\n",
      "视频时长：01:33:36,050\n"
     ]
    },
    {
     "name": "stderr",
     "output_type": "stream",
     "text": [
      " 50%|█████     | 1/2 [03:27<03:27, 207.03s/it]"
     ]
    },
    {
     "name": "stdout",
     "output_type": "stream",
     "text": [
      "完成识别： --2024-08-16 10:00:14\n",
      "花费时间: 0:03:27.033731\n",
      "Data CurationOffice Hours Recording.mp4 Data CurationOffice Hours Recording.mp4 Data CurationOffice Hours Recording.srt\n",
      "正在识别： --2024-08-16 10:00:14\n",
      "视频时长：01:02:27,969\n"
     ]
    },
    {
     "name": "stderr",
     "output_type": "stream",
     "text": [
      "100%|██████████| 2/2 [05:34<00:00, 167.25s/it]"
     ]
    },
    {
     "name": "stdout",
     "output_type": "stream",
     "text": [
      "完成识别： --2024-08-16 10:02:21\n",
      "花费时间: 0:02:07.463223\n"
     ]
    },
    {
     "name": "stderr",
     "output_type": "stream",
     "text": [
      "\n"
     ]
    }
   ],
   "source": [
    "mp4_files = ['Sample Management Recording.mp4','Data CurationOffice Hours Recording.mp4']\n",
    "for file in tqdm(mp4_files):\n",
    "    # 字幕文件保存路径\n",
    "    # xxx.mp4 --> xxx. + srt\n",
    "    # 如果是其他格式，如mpweg需要改一下，这里因为都是mp4就直接对字符串切片了\n",
    "    raw_file = file\n",
    "    save_file = file[:-3] + \"srt\"\n",
    "    print (file,raw_file,save_file)\n",
    "    # 判断文件是否存在，存在则说明已经有字幕，跳出不识别\n",
    "    if os.path.exists(save_file):\n",
    "        time.sleep(0.01)\n",
    "        continue\n",
    "    # 获取当前视频识别开始时间\n",
    "    start_time = datetime.datetime.now()\n",
    "    print('正在识别：{} --{}'.format('\\\\'.join(file.split('\\\\')[2:]),start_time.strftime('%Y-%m-%d %H:%M:%S')))\n",
    "    # 获取视频时长\n",
    "    video = imageio.get_reader(raw_file)\n",
    "    duration = seconds_to_hmsm(video.get_meta_data()['duration'])\n",
    "    video.close()\n",
    "    print('视频时长：{}'.format(duration))\n",
    "\n",
    "    # 文字识别\n",
    "    res = model.transcribe(raw_file,fp16=False,language='English')\n",
    "    with open(save_file,'w',encoding='utf-8') as f:\n",
    "        i = 1\n",
    "        for r in res['segments']:\n",
    "            f.write(str(i)+'\\n')\n",
    "            f.write(seconds_to_hmsm(float(r['start']))+' --> '+seconds_to_hmsm(float(r['end']))+'\\n')\n",
    "            i += 1\n",
    "            #font_format = \"{\\\\3c&Hd22c255&}{\\\\fn黑体\\\\fs27}\"\n",
    "\t\t    #f.write(font_format+'\\n')\n",
    "            f.write(r['text']+'\\n')\n",
    "\t\t    #f.write(convert(r['text'], 'zh-cn')+'\\n') # 结果可能是繁体，转为简体zh-cn\n",
    "            f.write('\\n')\n",
    "\t\t    # 获取当前视频识别结束时间\n",
    "    end_time = datetime.datetime.now()\n",
    "    print('完成识别：{} --{}'.format('\\\\'.join(file.split('\\\\')[2:]),end_time.strftime('%Y-%m-%d %H:%M:%S')))\n",
    "    print('花费时间:',end_time-start_time)"
   ]
  }
 ],
 "metadata": {
  "kernelspec": {
   "display_name": "Voice",
   "language": "python",
   "name": "python3"
  },
  "language_info": {
   "codemirror_mode": {
    "name": "ipython",
    "version": 3
   },
   "file_extension": ".py",
   "mimetype": "text/x-python",
   "name": "python",
   "nbconvert_exporter": "python",
   "pygments_lexer": "ipython3",
   "version": "3.9.19"
  }
 },
 "nbformat": 4,
 "nbformat_minor": 2
}
