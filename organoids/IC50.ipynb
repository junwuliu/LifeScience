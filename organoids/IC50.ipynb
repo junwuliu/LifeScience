{
 "cells": [
  {
   "cell_type": "code",
   "execution_count": 1,
   "metadata": {},
   "outputs": [
    {
     "data": {
      "text/html": [
       "<svg  width=\"550\" height=\"55\"><rect x=\"0\" y=\"0\" width=\"55\" height=\"55\" style=\"fill:#1f77b4;stroke-width:2;stroke:rgb(255,255,255)\"/><rect x=\"55\" y=\"0\" width=\"55\" height=\"55\" style=\"fill:#ff7f0e;stroke-width:2;stroke:rgb(255,255,255)\"/><rect x=\"110\" y=\"0\" width=\"55\" height=\"55\" style=\"fill:#2ca02c;stroke-width:2;stroke:rgb(255,255,255)\"/><rect x=\"165\" y=\"0\" width=\"55\" height=\"55\" style=\"fill:#d62728;stroke-width:2;stroke:rgb(255,255,255)\"/><rect x=\"220\" y=\"0\" width=\"55\" height=\"55\" style=\"fill:#9467bd;stroke-width:2;stroke:rgb(255,255,255)\"/><rect x=\"275\" y=\"0\" width=\"55\" height=\"55\" style=\"fill:#8c564b;stroke-width:2;stroke:rgb(255,255,255)\"/><rect x=\"330\" y=\"0\" width=\"55\" height=\"55\" style=\"fill:#e377c2;stroke-width:2;stroke:rgb(255,255,255)\"/><rect x=\"385\" y=\"0\" width=\"55\" height=\"55\" style=\"fill:#7f7f7f;stroke-width:2;stroke:rgb(255,255,255)\"/><rect x=\"440\" y=\"0\" width=\"55\" height=\"55\" style=\"fill:#bcbd22;stroke-width:2;stroke:rgb(255,255,255)\"/><rect x=\"495\" y=\"0\" width=\"55\" height=\"55\" style=\"fill:#17becf;stroke-width:2;stroke:rgb(255,255,255)\"/></svg>"
      ],
      "text/plain": [
       "[(0.12156862745098039, 0.4666666666666667, 0.7058823529411765),\n",
       " (1.0, 0.4980392156862745, 0.054901960784313725),\n",
       " (0.17254901960784313, 0.6274509803921569, 0.17254901960784313),\n",
       " (0.8392156862745098, 0.15294117647058825, 0.1568627450980392),\n",
       " (0.5803921568627451, 0.403921568627451, 0.7411764705882353),\n",
       " (0.5490196078431373, 0.33725490196078434, 0.29411764705882354),\n",
       " (0.8901960784313725, 0.4666666666666667, 0.7607843137254902),\n",
       " (0.4980392156862745, 0.4980392156862745, 0.4980392156862745),\n",
       " (0.7372549019607844, 0.7411764705882353, 0.13333333333333333),\n",
       " (0.09019607843137255, 0.7450980392156863, 0.8117647058823529)]"
      ]
     },
     "execution_count": 1,
     "metadata": {},
     "output_type": "execute_result"
    }
   ],
   "source": [
    "import seaborn as sns\n",
    "current_palette = sns.color_palette()\n",
    "current_palette"
   ]
  },
  {
   "cell_type": "code",
   "execution_count": null,
   "metadata": {},
   "outputs": [],
   "source": [
    "## 暂时弃用\n",
    "## 方案二，使用scipy 的 curve_fit进行拟合\n",
    "curve_fit_df = test_sample_df[['drug','concentration','Viability']]\n",
    "group = curve_fit_df.groupby(['drug'])\n",
    "concentration_list = []\n",
    "drug_list = []\n",
    "viability_list = []\n",
    "for key, value in group:\n",
    "    drug_list.append(key)\n",
    "    concentration_list.append(np.array(list(sorted(set(value['concentration'])))))\n",
    "    viability_tmp = []\n",
    "    for key2, value2 in value.sort_values(by='concentration',ascending=True).groupby('concentration'):\n",
    "        viability_tmp.append(np.array(value2['Viability']))\n",
    "    viability_list.append(viability_tmp)\n",
    "    #break\n",
    "#print (concentration_list)"
   ]
  },
  {
   "cell_type": "code",
   "execution_count": null,
   "metadata": {},
   "outputs": [],
   "source": [
    "## 暂时弃用，\n",
    "## 方案一：使用HTS_doseresponse包\n",
    "# https://medium.com/@sahmcphee/high-throughput-dose-response-data-analysis-47d27d2bf545\n",
    "from HTS_doseresponse import *\n",
    "hts_df = test_sample_df[['drug','concentration','Viability']]\n",
    "hts_df.columns = ['sample_name','conc_nM','response']\n",
    "hts_df.index = hts_df['sample_name']\n",
    "hts_df = hts_df.drop(['sample_name'],axis=1)\n",
    "print (hts_df.head())\n",
    "hts_df = process_doseresponse_df(hts_df)\n",
    "print (hts_df.head())\n",
    "f = swarmplot_IC50results(hts_df)\n",
    "plt.show()"
   ]
  },
  {
   "cell_type": "code",
   "execution_count": 22,
   "metadata": {},
   "outputs": [],
   "source": [
    "## 数据预处理方案\n",
    "#输入定义为三块板：1、样本 2、浓度 3、结果值\n",
    "import pandas as pd\n",
    "import numpy as np\n",
    "sample_info = pd.read_csv('sample_plate.info',sep='\\t',header=None)\n",
    "con_info = pd.read_csv('concentration_plate.info',sep='\\t',header=None)\n",
    "value_info = pd.read_csv('value_plate.info',sep='\\t',header=None)\n",
    "sample_info = sample_info.reset_index().melt(id_vars='index', var_name='col', value_name='sample')\n",
    "con_info = con_info.reset_index().melt(id_vars='index', var_name='col', value_name='concentration')\n",
    "value_info = value_info.reset_index().melt(id_vars='index', var_name='col', value_name='value')\n",
    "\n",
    "## 合并三个表格\n",
    "merged_df = sample_info.merge(con_info, on=['index', 'col']).merge(value_info, on=['index', 'col'])\n",
    "\n"
   ]
  },
  {
   "cell_type": "code",
   "execution_count": 13,
   "metadata": {},
   "outputs": [
    {
     "name": "stdout",
     "output_type": "stream",
     "text": [
      "    index col sample  concentration   value\n",
      "12      0   2    紫杉醇           0.01  222991\n",
      "13      1   2    紫杉醇           0.01  235445\n",
      "14      2   2    紫杉醇           0.01  272127\n",
      "15      3   2   吉非替尼           0.10  233387\n",
      "16      4   2   吉非替尼           0.10  168598\n"
     ]
    },
    {
     "name": "stderr",
     "output_type": "stream",
     "text": [
      "/tmp/ipykernel_96916/413535731.py:27: SettingWithCopyWarning: \n",
      "A value is trying to be set on a copy of a slice from a DataFrame.\n",
      "Try using .loc[row_indexer,col_indexer] = value instead\n",
      "\n",
      "See the caveats in the documentation: https://pandas.pydata.org/pandas-docs/stable/user_guide/indexing.html#returning-a-view-versus-a-copy\n",
      "  test_sample_df['Viability'] = test_sample_df.apply(lambda x: cal_viability(x['sample'],x['value']),axis=1)\n"
     ]
    },
    {
     "data": {
      "text/html": [
       "<div>\n",
       "<style scoped>\n",
       "    .dataframe tbody tr th:only-of-type {\n",
       "        vertical-align: middle;\n",
       "    }\n",
       "\n",
       "    .dataframe tbody tr th {\n",
       "        vertical-align: top;\n",
       "    }\n",
       "\n",
       "    .dataframe thead th {\n",
       "        text-align: right;\n",
       "    }\n",
       "</style>\n",
       "<table border=\"1\" class=\"dataframe\">\n",
       "  <thead>\n",
       "    <tr style=\"text-align: right;\">\n",
       "      <th></th>\n",
       "      <th>index</th>\n",
       "      <th>col</th>\n",
       "      <th>sample</th>\n",
       "      <th>concentration</th>\n",
       "      <th>value</th>\n",
       "      <th>Viability</th>\n",
       "    </tr>\n",
       "  </thead>\n",
       "  <tbody>\n",
       "    <tr>\n",
       "      <th>12</th>\n",
       "      <td>0</td>\n",
       "      <td>2</td>\n",
       "      <td>紫杉醇</td>\n",
       "      <td>0.01</td>\n",
       "      <td>222991</td>\n",
       "      <td>0.920981</td>\n",
       "    </tr>\n",
       "    <tr>\n",
       "      <th>13</th>\n",
       "      <td>1</td>\n",
       "      <td>2</td>\n",
       "      <td>紫杉醇</td>\n",
       "      <td>0.01</td>\n",
       "      <td>235445</td>\n",
       "      <td>0.977527</td>\n",
       "    </tr>\n",
       "    <tr>\n",
       "      <th>14</th>\n",
       "      <td>2</td>\n",
       "      <td>2</td>\n",
       "      <td>紫杉醇</td>\n",
       "      <td>0.01</td>\n",
       "      <td>272127</td>\n",
       "      <td>1.144076</td>\n",
       "    </tr>\n",
       "    <tr>\n",
       "      <th>15</th>\n",
       "      <td>3</td>\n",
       "      <td>2</td>\n",
       "      <td>吉非替尼</td>\n",
       "      <td>0.10</td>\n",
       "      <td>233387</td>\n",
       "      <td>1.030998</td>\n",
       "    </tr>\n",
       "    <tr>\n",
       "      <th>16</th>\n",
       "      <td>4</td>\n",
       "      <td>2</td>\n",
       "      <td>吉非替尼</td>\n",
       "      <td>0.10</td>\n",
       "      <td>168598</td>\n",
       "      <td>0.717749</td>\n",
       "    </tr>\n",
       "  </tbody>\n",
       "</table>\n",
       "</div>"
      ],
      "text/plain": [
       "    index col sample  concentration   value  Viability\n",
       "12      0   2    紫杉醇           0.01  222991   0.920981\n",
       "13      1   2    紫杉醇           0.01  235445   0.977527\n",
       "14      2   2    紫杉醇           0.01  272127   1.144076\n",
       "15      3   2   吉非替尼           0.10  233387   1.030998\n",
       "16      4   2   吉非替尼           0.10  168598   0.717749"
      ]
     },
     "execution_count": 13,
     "metadata": {},
     "output_type": "execute_result"
    }
   ],
   "source": [
    "## 从数据表中提取指定的空白对照，阴性对照，阳性对照等,\n",
    "blank_control_name = ['空白对照1','空白对照2']\n",
    "drug1 = '紫杉醇'\n",
    "drug2 = '吉非替尼'\n",
    "drug1_negative_control_name = '紫杉醇阴性对照'\n",
    "drug2_negative_control_name = '吉非替尼阴性对照'\n",
    "drug1_positive_control_name = '紫杉醇阳性对照'\n",
    "drug2_positive_control_name = '吉非替尼阳性对照'\n",
    "\n",
    "##  计算细胞活性\n",
    "blank_control_mean = merged_df[merged_df['sample'].isin(blank_control_name)][['value']].values.mean() ## 所有空白对照的均值\n",
    "drug1_negative_control_mean = merged_df[merged_df['sample'].isin([drug1_negative_control_name])][['value']].values.mean()\n",
    "drug2_negative_control_mean = merged_df[merged_df['sample'].isin([drug2_negative_control_name])][['value']].values.mean()\n",
    "\n",
    "test_sample_df = merged_df[merged_df['sample'].isin([drug1,drug2])]\n",
    "print (test_sample_df.head())\n",
    "\n",
    "def cal_viability(drugname,value):\n",
    "    #print (drugname,value)\n",
    "    if drugname in drug1_negative_control_name:\n",
    "        return (value-blank_control_mean)/(drug1_negative_control_mean-blank_control_mean)\n",
    "    elif drugname in drug2_negative_control_name:\n",
    "        return (value-blank_control_mean)/(drug2_negative_control_mean-blank_control_mean)\n",
    "    else:\n",
    "        print (drugname,drug1_negative_control_name,drug2_negative_control_name)\n",
    "        return None\n",
    "test_sample_df['Viability'] = test_sample_df.apply(lambda x: cal_viability(x['sample'],x['value']),axis=1)\n",
    "test_sample_df.head()"
   ]
  },
  {
   "cell_type": "code",
   "execution_count": 15,
   "metadata": {},
   "outputs": [
    {
     "name": "stdout",
     "output_type": "stream",
     "text": [
      "{'紫杉醇': {0.01: [0.9209814398476868, 0.9775268315163146, 1.1440755754691496], 0.1: [1.1669089442423572, 1.1628771225142587, 1.1452560638129623], 1.0: [1.1302502408271895, 0.9314287616904291, 1.2072907262803192], 5.0: [0.8131392893006136, 0.9425979975588107, 1.0882657188455127], 10.0: [0.7650026069117593, 0.8271643988930651, 0.825139407349448], 50.0: [0.7619787406156853, 0.7289386880082817, 0.6273939887414708], 250.0: [0.2211652479366048, 0.2784961183878465, 0.2865007374268533]}, '吉非替尼': {0.1: [1.030998257012844, 0.7177488954231881, 1.058494423327502], 0.5: [0.8707014576465403, 1.1720230818881636, 1.225390882799223], 2.5: [0.897922033758994, 1.0363601786662562, 1.012432180232769], 5.0: [0.9844090080928434, 0.708412672959041, 0.894044431264822], 10.0: [1.1825486936460343, 0.8827549028061046, 0.9533011596545614], 20.0: [1.1249358366378641, 0.9984399338261187, 1.0303407084602163], 50.0: [0.9512801648383971, 1.1017379104944267, 1.0554919405982242]}}\n"
     ]
    }
   ],
   "source": [
    "### 以样本-浓度-值为键的嵌套字典结构\n",
    "\n",
    "nested_dict = {}\n",
    "for _, row in test_sample_df.iterrows():\n",
    "    sample = row['sample']\n",
    "    concentration = row['concentration']\n",
    "    value = row['Viability']\n",
    "    \n",
    "    if sample not in nested_dict:\n",
    "        nested_dict[sample] = {}\n",
    "    if concentration not in nested_dict[sample]:\n",
    "        nested_dict[sample][concentration] = []\n",
    "    nested_dict[sample][concentration].append(value)\n",
    "print (nested_dict)"
   ]
  },
  {
   "cell_type": "code",
   "execution_count": 47,
   "metadata": {},
   "outputs": [
    {
     "name": "stdout",
     "output_type": "stream",
     "text": [
      "[-2.         -1.          0.          0.69897     1.          1.69897\n",
      "  2.39794001] [1.01419462 1.15834738 1.08965658 0.948001   0.8057688  0.70610381\n",
      " 0.26205403]\n",
      "[8.75255954e-15 1.08888513e+00 7.25078464e+01 7.54474490e-01]\n",
      "IC50 value: 1.8604 µM\n",
      "[-1.         -0.30103     0.39794001  0.69897     1.          1.30103\n",
      "  1.69897   ] [0.93574719 1.08937181 0.98223813 0.8622887  1.00620159 1.05123883\n",
      " 1.03617001]\n",
      "[ 0.97249772  1.05739741 17.01236761 -2.        ]\n",
      "IC50 value: 1.2308 µM\n"
     ]
    },
    {
     "data": {
      "image/png": "[encoded data removed]",
      "text/plain": [
       "<Figure size 800x600 with 1 Axes>"
      ]
     },
     "metadata": {},
     "output_type": "display_data"
    }
   ],
   "source": [
    "import numpy as np\n",
    "import matplotlib.pyplot as plt\n",
    "from matplotlib import rcParams\n",
    "from scipy.optimize import curve_fit\n",
    "import warnings\n",
    "warnings.filterwarnings(\"ignore\")\n",
    "\n",
    "plt.rcParams['font.sans-serif'] = ['FreeSerif']  # \n",
    "plt.rcParams['axes.unicode_minus'] = False \n",
    "plt.rcParams['font.size'] = 15\n",
    "\n",
    "# 定义四参数 逻辑回归 模型\n",
    "def four_param_logistic(x, top, bottom, ic50, slope):\n",
    "    return bottom + (top - bottom) / (1 + 10**((np.log10(ic50)-x)* slope))\n",
    "\n",
    "response_labels = [drug1,drug2]\n",
    "plt.figure(figsize=(8, 6))\n",
    "\n",
    "for i in range(0,len(response_labels)):\n",
    "    drug = response_labels[i]\n",
    "    concentrations = np.array(list(nested_dict[drug].keys()))\n",
    "    concentrations_log = np.log10(concentrations)\n",
    "    response = np.array(list(nested_dict[drug].values()))\n",
    "    mean_response = np.mean(response,axis=1) # 获取响应值的均值\n",
    "    std_response = np.std(response, axis=1)    # 获取响应值的标准差\n",
    "    print (concentrations_log,mean_response)\n",
    "# 使用 curve_fit 拟合曲线\n",
    "# 初始参数：bottom=0, top=100, ic50=1, hill_slope=1\n",
    "    p0 = [np.max(response), 1, np.median(concentrations_log), np.min(response)]\n",
    "    bottom_init = np.min(response)\n",
    "    top_init = np.max(response)\n",
    "    ic50_init = np.mean(response)  # 或选择接近 50% 的点\n",
    "    hill_slope_init = 1.0  # 假设为 1\n",
    "    #print (bottom_init, top_init, ic50_init, hill_slope_init)\n",
    "    popt = None\n",
    "    pcov = None\n",
    "    popt, pcov = curve_fit(four_param_logistic, concentrations_log, mean_response,bounds=([0,0,0,-2],[100,1000,100,10]))\n",
    "# 提取拟合参数\n",
    "    bottom, top, ic50, hill_slope = popt\n",
    "    print (popt)\n",
    "    print(f\"IC50 value: {np.log10(ic50):.4f} µM\")\n",
    "\n",
    "# 生成拟合曲线\n",
    "    x_fit = np.logspace(min(concentrations_log), max(concentrations_log), 1000)  # 生成浓度范围\n",
    "    y_fit = four_param_logistic(np.log10(x_fit), bottom, top, ic50, hill_slope)\n",
    "\n",
    "# 绘制数据点和拟合曲线\n",
    "    plt.plot(x_fit, y_fit, color=current_palette[i])\n",
    "    plt.errorbar(concentrations, mean_response, yerr=std_response, fmt='o', capsize=5, color=current_palette[i])\n",
    "    plt.scatter(concentrations, mean_response, color=current_palette[i],label=response_labels[i])\n",
    "    #break\n",
    "plt.xscale('log')\n",
    "plt.grid(False) ## 去除网格线\n",
    "plt.xlabel('Concentration (µM)')\n",
    "plt.ylabel('cell ratio (%)')\n",
    "plt.title('')\n",
    "plt.legend()\n",
    "#plt.grid(True, which=\"both\", ls=\"--\")\n",
    "plt.show()\n",
    "\n",
    "### tips\n",
    "# 设置 X 轴为对数刻度\n",
    "#plt.xscale('log')\n",
    "# 设置 X 轴范围\n",
    "#plt.xlim(1, 100)  # 限制 X 轴范围为 [1, 100]\n",
    "# 设置 X 轴刻度位置和标签\n",
    "#plt.xticks([1, 10, 100], ['1', '10', '100']) "
   ]
  }
 ],
 "metadata": {
  "kernelspec": {
   "display_name": "htmd",
   "language": "python",
   "name": "python3"
  },
  "language_info": {
   "codemirror_mode": {
    "name": "ipython",
    "version": 3
   },
   "file_extension": ".py",
   "mimetype": "text/x-python",
   "name": "python",
   "nbconvert_exporter": "python",
   "pygments_lexer": "ipython3",
   "version": "3.10.13"
  }
 },
 "nbformat": 4,
 "nbformat_minor": 2
}
