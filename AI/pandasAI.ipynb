{
 "cells": [
  {
   "cell_type": "code",
   "execution_count": null,
   "metadata": {},
   "outputs": [],
   "source": [
    "import pandas as pd\n",
    "import pandasai as pai\n",
    "from pandasai import Agent\n",
    "from pandasai_openai import OpenAI\n",
    "#from pandasai_openai import BaseOpenAI\n",
    "\n",
    "#from openai import OpenAI\n",
    "#import openai"
   ]
  },
  {
   "cell_type": "code",
   "execution_count": null,
   "metadata": {},
   "outputs": [],
   "source": [
    "llm = OpenAI(api_base=\"https://api.moonshot.cn/v1\",\n",
    "    api_key=\"sk-FUP3xHkcSc5BxzNh4FJVixzPNommnjNOZ33dwOpBEdTzRxm2\")\n",
    "    #deployment_name=\"text-davinci-003\")  # The name of your deployed model\n",
    "\n",
    "pai.config.set({\"llm\": llm})"
   ]
  },
  {
   "cell_type": "code",
   "execution_count": null,
   "metadata": {},
   "outputs": [],
   "source": [
    "import pandasai as pai\n",
    "\n",
    "# Sample DataFrame\n",
    "df = pai.DataFrame({\n",
    "    \"country\": [\"United States\", \"United Kingdom\", \"France\", \"Germany\", \"Italy\", \"Spain\", \"Canada\", \"Australia\", \"Japan\", \"China\"],\n",
    "    \"revenue\": [5000, 3200, 2900, 4100, 2300, 2100, 2500, 2600, 4500, 7000]\n",
    "})\n",
    "\n",
    "# By default, unless you choose a different LLM, it will use BambooLLM.\n",
    "# You can get your free API key signing up at https://app.pandabi.ai (you can also configure it in your .env file)\n",
    "#pai.DEFAULT_API_URL = \"https://api.moonshot.cn/v1\"\n",
    "#pai.api_key.set(\"sk-FUP3xHkcSc5BxzNh4FJVixzPNommnjNOZ33dwOpBEdTzRxm2\")\n",
    "\n",
    "df.chat('Which are the top 5 countries by sales?')"
   ]
  },
  {
   "cell_type": "code",
   "execution_count": null,
   "metadata": {},
   "outputs": [],
   "source": [
    "chat_completion = openai.ChatCompletion.create(\n",
    "    model=\"gpt-3.5-turbo\",\n",
    "    messages=[{ \"role\": \"user\", \"content\": \"Hello world\" }]\n",
    ")\n",
    "print(chat_completion.choices[0].message.content) "
   ]
  },
  {
   "cell_type": "code",
   "execution_count": null,
   "metadata": {},
   "outputs": [],
   "source": [
    "sales_by_country = pd.DataFrame({\n",
    "    \"country\": [\"United States\", \"United Kingdom\", \"France\", \"Germany\", \"Italy\", \"Spain\", \"Canada\", \"Australia\", \"Japan\", \"China\"],\n",
    "    \"sales\": [5000, 3200, 2900, 4100, 2300, 2100, 2500, 2600, 4500, 7000]\n",
    "})\n",
    "\n",
    "# By default, unless you choose a different LLM, it will use BambooLLM.\n",
    "# You can get your free API key signing up at https://pandabi.ai (you can also configure it in your .env file)\n",
    "#os.environ[\"PANDASAI_API_KEY\"] = \"YOUR_API_KEY\"\n",
    "\n",
    "agent = Agent(sales_by_country)\n",
    "agent.chat('Which are the top 5 countries by sales?')\n",
    "## Output\n",
    "# China, United States, Japan, Germany, Australia"
   ]
  }
 ],
 "metadata": {
  "kernelspec": {
   "display_name": "openai",
   "language": "python",
   "name": "python3"
  },
  "language_info": {
   "codemirror_mode": {
    "name": "ipython",
    "version": 3
   },
   "file_extension": ".py",
   "mimetype": "text/x-python",
   "name": "python",
   "nbconvert_exporter": "python",
   "pygments_lexer": "ipython3",
   "version": "3.9.0"
  }
 },
 "nbformat": 4,
 "nbformat_minor": 2
}
